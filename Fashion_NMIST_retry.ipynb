{
  "nbformat": 4,
  "nbformat_minor": 0,
  "metadata": {
    "colab": {
      "name": "Fashion_NMIST_retry.ipynb",
      "provenance": [],
      "collapsed_sections": []
    },
    "kernelspec": {
      "name": "python3",
      "display_name": "Python 3"
    },
    "language_info": {
      "name": "python"
    }
  },
  "cells": [
    {
      "cell_type": "code",
      "metadata": {
        "id": "9b8fxj9hVbNb"
      },
      "source": [
        "import tensorflow as tf\n",
        "import tensorflow.keras as keras\n",
        "from keras import layers\n",
        "import numpy as np"
      ],
      "execution_count": 2,
      "outputs": []
    },
    {
      "cell_type": "markdown",
      "metadata": {
        "id": "MQDmQNjYYIaa"
      },
      "source": [
        "Load the Fashion NMIST dataset and create arrays to store the training and test data."
      ]
    },
    {
      "cell_type": "code",
      "metadata": {
        "id": "m7YcWBtIWGL_"
      },
      "source": [
        "fashion = keras.datasets.fashion_mnist\n",
        "(x_train, y_train), (x_test, y_test) = fashion.load_data()"
      ],
      "execution_count": 3,
      "outputs": []
    },
    {
      "cell_type": "markdown",
      "metadata": {
        "id": "7oUQs7DaYmyv"
      },
      "source": [
        "Normalize the input data so that they're in the form of values from 0 to 1 instead of 0 to 255. For some reason, this makes them easier for the model to train with."
      ]
    },
    {
      "cell_type": "code",
      "metadata": {
        "id": "Za3xXd_uXPco"
      },
      "source": [
        "x_train = x_train.astype(\"float32\") / 255\n",
        "x_test = x_test.astype(\"float32\") / 255"
      ],
      "execution_count": 4,
      "outputs": []
    },
    {
      "cell_type": "markdown",
      "metadata": {
        "id": "Ljbr8q8QcHN_"
      },
      "source": [
        "When we create the model, we get to specify the structure of the different layers in the neural network."
      ]
    },
    {
      "cell_type": "code",
      "metadata": {
        "id": "QneikiD5cJ6L"
      },
      "source": [
        "model = keras.Sequential(\n",
        "    [\n",
        "        layers.Flatten(input_shape=(28, 28)),\n",
        "        layers.Dense(128, activation=\"relu\"),\n",
        "        layers.Dropout(0.2),\n",
        "        layers.Dense(128, activation=\"softsign\"),\n",
        "        layers.Dense(10),\n",
        "        layers.Softmax()\n",
        "    ]\n",
        ")"
      ],
      "execution_count": 15,
      "outputs": []
    },
    {
      "cell_type": "markdown",
      "metadata": {
        "id": "J3GTTY9G65kD"
      },
      "source": [
        "When we compile the model, we get to set some hyperparameters related to the functions used in the model: specifically, the optimizer function, the loss function, and what metrics are considered."
      ]
    },
    {
      "cell_type": "code",
      "metadata": {
        "id": "ahUZwN6_67oP"
      },
      "source": [
        "model.compile(\n",
        "    optimizer=\"Nadam\",\n",
        "    loss='sparse_categorical_crossentropy',\n",
        "    metrics=['accuracy']\n",
        ")"
      ],
      "execution_count": 16,
      "outputs": []
    },
    {
      "cell_type": "markdown",
      "metadata": {
        "id": "r17pnct-8_Bb"
      },
      "source": [
        "Train the model."
      ]
    },
    {
      "cell_type": "code",
      "metadata": {
        "colab": {
          "base_uri": "https://localhost:8080/"
        },
        "id": "ZzNs4nEv9neV",
        "outputId": "05d38bb0-45d1-4e15-c398-1bb50da18aab"
      },
      "source": [
        "model.fit(x_train, y_train, epochs=6)"
      ],
      "execution_count": 17,
      "outputs": [
        {
          "output_type": "stream",
          "name": "stdout",
          "text": [
            "Epoch 1/6\n",
            "1875/1875 [==============================] - 9s 4ms/step - loss: 0.5023 - accuracy: 0.8186\n",
            "Epoch 2/6\n",
            "1875/1875 [==============================] - 8s 4ms/step - loss: 0.3827 - accuracy: 0.8589\n",
            "Epoch 3/6\n",
            "1875/1875 [==============================] - 7s 4ms/step - loss: 0.3510 - accuracy: 0.8701\n",
            "Epoch 4/6\n",
            "1875/1875 [==============================] - 7s 4ms/step - loss: 0.3309 - accuracy: 0.8777\n",
            "Epoch 5/6\n",
            "1875/1875 [==============================] - 7s 4ms/step - loss: 0.3172 - accuracy: 0.8818\n",
            "Epoch 6/6\n",
            "1875/1875 [==============================] - 7s 4ms/step - loss: 0.3070 - accuracy: 0.8849\n"
          ]
        },
        {
          "output_type": "execute_result",
          "data": {
            "text/plain": [
              "<keras.callbacks.History at 0x7f586d9b9390>"
            ]
          },
          "metadata": {},
          "execution_count": 17
        }
      ]
    },
    {
      "cell_type": "markdown",
      "metadata": {
        "id": "3BFS-YEJ9rjf"
      },
      "source": [
        "Test the model to see how well it did."
      ]
    },
    {
      "cell_type": "code",
      "metadata": {
        "colab": {
          "base_uri": "https://localhost:8080/"
        },
        "id": "IsOUQ5Qe9uGu",
        "outputId": "4f38212e-7db2-4a06-a314-1877ee8b9396"
      },
      "source": [
        "model.evaluate(x_test,  y_test, verbose=2)"
      ],
      "execution_count": 14,
      "outputs": [
        {
          "output_type": "stream",
          "name": "stdout",
          "text": [
            "313/313 - 0s - loss: 0.3362 - accuracy: 0.8834\n"
          ]
        },
        {
          "output_type": "execute_result",
          "data": {
            "text/plain": [
              "[0.3362162709236145, 0.883400022983551]"
            ]
          },
          "metadata": {},
          "execution_count": 14
        }
      ]
    }
  ]
}