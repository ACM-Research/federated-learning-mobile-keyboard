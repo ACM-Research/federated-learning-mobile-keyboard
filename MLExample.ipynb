{
  "nbformat": 4,
  "nbformat_minor": 0,
  "metadata": {
    "colab": {
      "name": "MLExample.ipynb",
      "provenance": [],
      "collapsed_sections": []
    },
    "kernelspec": {
      "name": "python3",
      "display_name": "Python 3"
    },
    "language_info": {
      "name": "python"
    }
  },
  "cells": [
    {
      "cell_type": "code",
      "metadata": {
        "id": "Hyv7UNYYL17x"
      },
      "source": [
        "import tensorflow as tf\n",
        "import tensorflow.keras as keras\n",
        "import matplotlib.pyplot as plt\n",
        "import tensorflow.keras.datasets.fashion_mnist as fashion_mnist\n",
        "import numpy as np \n",
        "from google.colab import files\n",
        "from tensorflow.keras import preprocessing\n",
        "from keras.models import Sequential\n",
        "from keras.layers import Conv2D\n",
        "from keras.layers import MaxPooling2D\n",
        "from keras.layers import Dense\n",
        "from keras.layers import Flatten\n",
        "from sklearn.model_selection import KFold\n",
        " "
      ],
      "execution_count": 47,
      "outputs": []
    },
    {
      "cell_type": "code",
      "metadata": {
        "colab": {
          "base_uri": "https://localhost:8080/"
        },
        "id": "jqbQucsaMEPE",
        "outputId": "15a2385f-b18d-4f4c-f5a2-0db0c2dd46c2"
      },
      "source": [
        "#load data\n",
        "mnist = keras.datasets.mnist\n",
        "(x_train, y_train), (x_test, y_test) = fashion_mnist.load_data()\n",
        "\n",
        "#use reshape function in NumPy to make a dimensional array\n",
        "def reshapingdata(input):\n",
        "  input = input.reshape(input.shape + (1,))\n",
        "  input = input / 255\n",
        "  return input\n",
        "\n",
        "x_train = reshapingdata(x_train)\n",
        "x_test = reshapingdata(x_test)\n",
        "\n",
        "print(\"Train data shape: {}\".format(x_train.shape))\n",
        "print(\"Test data shape: {}\".format(x_test.shape))"
      ],
      "execution_count": 29,
      "outputs": [
        {
          "output_type": "stream",
          "name": "stdout",
          "text": [
            "Train data shape: (60000, 28, 28, 1)\n",
            "Test data shape: (10000, 28, 28, 1)\n"
          ]
        }
      ]
    },
    {
      "cell_type": "code",
      "metadata": {
        "id": "0g6arMg6NlLV",
        "colab": {
          "base_uri": "https://localhost:8080/"
        },
        "outputId": "4f6b1f0d-39f9-4259-9037-93a874a19d82"
      },
      "source": [
        "#define model\n",
        "model = Sequential()\n",
        "model.add(Conv2D(32, (3, 3), activation='relu', kernel_initializer='he_uniform', input_shape=(28, 28, 1)))\n",
        "model.add(MaxPooling2D((2, 2)))\n",
        "model.add(Flatten())\n",
        "model.add(Dense(100, activation='relu', kernel_initializer='he_uniform'))\n",
        "model.add(Dense(10, activation='softmax'))\n",
        "# compile model\n",
        "model.compile(loss=\"sparse_categorical_crossentropy\", optimizer=keras.optimizers.RMSprop(learning_rate=0.01), metrics=[\"accuracy\"] )\n",
        "model.summary()"
      ],
      "execution_count": 55,
      "outputs": [
        {
          "output_type": "stream",
          "name": "stdout",
          "text": [
            "Model: \"sequential_4\"\n",
            "_________________________________________________________________\n",
            "Layer (type)                 Output Shape              Param #   \n",
            "=================================================================\n",
            "conv2d_4 (Conv2D)            (None, 26, 26, 32)        320       \n",
            "_________________________________________________________________\n",
            "max_pooling2d_4 (MaxPooling2 (None, 13, 13, 32)        0         \n",
            "_________________________________________________________________\n",
            "flatten_4 (Flatten)          (None, 5408)              0         \n",
            "_________________________________________________________________\n",
            "dense_8 (Dense)              (None, 100)               540900    \n",
            "_________________________________________________________________\n",
            "dense_9 (Dense)              (None, 10)                1010      \n",
            "=================================================================\n",
            "Total params: 542,230\n",
            "Trainable params: 542,230\n",
            "Non-trainable params: 0\n",
            "_________________________________________________________________\n"
          ]
        }
      ]
    },
    {
      "cell_type": "code",
      "metadata": {
        "id": "QFZhVEC4NqeI",
        "colab": {
          "base_uri": "https://localhost:8080/"
        },
        "outputId": "6d69cbb7-9d1a-4629-ceb4-e6387d66ebd1"
      },
      "source": [
        "#evaluate model\n",
        "history = model.fit(x_train, y_train, epochs=10)\n",
        "_, acc = model.evaluate(x_test, y_test, verbose=0)\n",
        "print('> %.3f' % (acc * 100.0))"
      ],
      "execution_count": 56,
      "outputs": [
        {
          "output_type": "stream",
          "name": "stdout",
          "text": [
            "Epoch 1/10\n",
            "1875/1875 [==============================] - 38s 20ms/step - loss: 0.5428 - accuracy: 0.8527\n",
            "Epoch 2/10\n",
            "1875/1875 [==============================] - 37s 20ms/step - loss: 0.3690 - accuracy: 0.8797\n",
            "Epoch 3/10\n",
            "1875/1875 [==============================] - 37s 20ms/step - loss: 0.3714 - accuracy: 0.8806\n",
            "Epoch 4/10\n",
            "1875/1875 [==============================] - 37s 20ms/step - loss: 0.3822 - accuracy: 0.8774\n",
            "Epoch 5/10\n",
            "1875/1875 [==============================] - 37s 20ms/step - loss: 0.3922 - accuracy: 0.8749\n",
            "Epoch 6/10\n",
            "1875/1875 [==============================] - 37s 20ms/step - loss: 0.4029 - accuracy: 0.8711\n",
            "Epoch 7/10\n",
            "1875/1875 [==============================] - 37s 20ms/step - loss: 0.4083 - accuracy: 0.8731\n",
            "Epoch 8/10\n",
            "1875/1875 [==============================] - 38s 20ms/step - loss: 0.4187 - accuracy: 0.8669\n",
            "Epoch 9/10\n",
            "1875/1875 [==============================] - 39s 21ms/step - loss: 0.4320 - accuracy: 0.8619\n",
            "Epoch 10/10\n",
            "1875/1875 [==============================] - 38s 20ms/step - loss: 0.4343 - accuracy: 0.8604\n",
            "> 86.210\n"
          ]
        }
      ]
    },
    {
      "cell_type": "code",
      "metadata": {
        "colab": {
          "base_uri": "https://localhost:8080/",
          "height": 281
        },
        "id": "T1UKiP9yLjrW",
        "outputId": "ee5eecc3-2690-47a0-e067-42875c6ab7dc"
      },
      "source": [
        "\n",
        "epochs=range(len(acc))\n",
        "\n",
        "plt.plot(epochs, history.history['loss'], color='blue', label='train')\n",
        "plt.plot(epochs, history.history['accuracy'], color='orange', label='train')\n",
        "plt.title(\"Training loss and accuracy\")\n",
        "plt.legend([\"Accuracy\", \"Loss\"])\n",
        "plt.show()"
      ],
      "execution_count": 72,
      "outputs": [
        {
          "output_type": "display_data",
          "data": {
            "image/png": "[encoded data removed]",
            "text/plain": [
              "<Figure size 432x288 with 1 Axes>"
            ]
          },
          "metadata": {
            "needs_background": "light"
          }
        }
      ]
    }
  ]
}