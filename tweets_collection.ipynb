{
  "nbformat": 4,
  "nbformat_minor": 0,
  "metadata": {
    "colab": {
      "name": "tweets collection.ipynb",
      "provenance": [],
      "collapsed_sections": []
    },
    "kernelspec": {
      "display_name": "Python 3",
      "name": "python3"
    },
    "language_info": {
      "name": "python"
    }
  },
  "cells": [
    {
      "cell_type": "code",
      "metadata": {
        "id": "QXdptGxenNW1"
      },
      "source": [
        "import tweepy\n",
        "import pandas as pd\n",
        "import csv\n",
        "from pandas import DataFrame\n",
        "import numpy as np"
      ],
      "execution_count": 294,
      "outputs": []
    },
    {
      "cell_type": "markdown",
      "metadata": {
        "id": "2Z_4L9JsDnDL"
      },
      "source": [
        ""
      ]
    },
    {
      "cell_type": "code",
      "metadata": {
        "id": "cy9jspJanShO"
      },
      "source": [
        "auth = tweepy.OAuthHandler(\"dl23xJsp5Rktm9Tr45JCt8vfI\", \"7JWaHWn4qyEXaG2DwhtVKvz09ONm5n44zK167jxjgsQMZWrEVd\")\n",
        "api = tweepy.API(auth)"
      ],
      "execution_count": 295,
      "outputs": []
    },
    {
      "cell_type": "code",
      "metadata": {
        "colab": {
          "base_uri": "https://localhost:8080/"
        },
        "id": "ynr_W1FzoFw2",
        "outputId": "a7ddfbf8-3028-4579-e6a8-2654c0c58fd2"
      },
      "source": [
        "tweepy.API(auth,wait_on_rate_limit=True, retry_delay=True, retry_errors=set([429]), retry_count=1)"
      ],
      "execution_count": 296,
      "outputs": [
        {
          "output_type": "execute_result",
          "data": {
            "text/plain": [
              "<tweepy.api.API at 0x7fc93ac90610>"
            ]
          },
          "metadata": {},
          "execution_count": 296
        }
      ]
    },
    {
      "cell_type": "code",
      "metadata": {
        "id": "AMPjqR6ewEPN"
      },
      "source": [
        "#!echo > tweets.csv"
      ],
      "execution_count": 297,
      "outputs": []
    },
    {
      "cell_type": "code",
      "metadata": {
        "id": "TJQvNVD3oSgb"
      },
      "source": [
        "def get_data_from_hashtag(query):\n",
        "  text_query = query\n",
        "  count = 1000\n",
        " # Creation of query method using parameters\n",
        "  tweets = tweepy.Cursor(api.search,q=text_query,lang=\"en\").items(count)\n",
        "  #print(sum(1 for _ in tweets))\n",
        " # Pulling information from tweets iterable object\n",
        "  tweets_list = [[tweet.created_at, tweet.id, tweet.text.strip(), text_query] for tweet in tweets]\n",
        " \n",
        " # Creation of dataframe from tweets list\n",
        " # Add or remove columns as you remove tweet information\n",
        "  tweets_df = pd.DataFrame(tweets_list)\n",
        "#except BaseException as e:\n",
        "#    print('failed on_status,',str(e))\n",
        "#    time.sleep(3)\n",
        "  print(tweets_df)\n",
        "  tweets_df.to_csv('videosgame.csv', mode = 'a', header=False )\n",
        "  #cvs_writer = csv.DictWriter('tweets.csv', fieldnames=('user', 'text'))\n"
      ],
      "execution_count": 298,
      "outputs": []
    },
    {
      "cell_type": "code",
      "metadata": {
        "id": "khjc3-DVae1b"
      },
      "source": [
        "#get_data(\"#cryptocurrency\")"
      ],
      "execution_count": 299,
      "outputs": []
    },
    {
      "cell_type": "code",
      "metadata": {
        "id": "wCBz7teUa_Kd"
      },
      "source": [
        "#get_data(\"#kpop\")"
      ],
      "execution_count": 300,
      "outputs": []
    },
    {
      "cell_type": "code",
      "metadata": {
        "id": "BgGVQkHawH8M"
      },
      "source": [
        "#get_data(\"#coronavirus\")"
      ],
      "execution_count": 301,
      "outputs": []
    },
    {
      "cell_type": "code",
      "metadata": {
        "colab": {
          "base_uri": "https://localhost:8080/"
        },
        "id": "65JVVp6lm9Lr",
        "outputId": "1ab3bdf3-522b-495e-d515-d23402b2e47c"
      },
      "source": [
        "!wc -l tweets.csv"
      ],
      "execution_count": 302,
      "outputs": [
        {
          "output_type": "stream",
          "name": "stdout",
          "text": [
            "wc: tweets.csv: No such file or directory\n"
          ]
        }
      ]
    },
    {
      "cell_type": "code",
      "metadata": {
        "colab": {
          "base_uri": "https://localhost:8080/"
        },
        "id": "hA1t2uPSqRhP",
        "outputId": "c2d8f0b2-8bdb-4af0-f265-e251a0520e89"
      },
      "source": [
        "!head -n 100 tweets.csv "
      ],
      "execution_count": 303,
      "outputs": [
        {
          "output_type": "stream",
          "name": "stdout",
          "text": [
            "head: cannot open 'tweets.csv' for reading: No such file or directory\n"
          ]
        }
      ]
    },
    {
      "cell_type": "code",
      "metadata": {
        "id": "Yw8kAS6FLZRf"
      },
      "source": [
        "#get_data(\"@cnnbrk\")"
      ],
      "execution_count": 304,
      "outputs": []
    },
    {
      "cell_type": "code",
      "metadata": {
        "id": "1leQhOtXNjqd"
      },
      "source": [
        "def get_data_from_username(userID):\n",
        "  \n",
        "  tweets = api.user_timeline(screen_name=userID, \n",
        "                           # 200 is the maximum allowed count\n",
        "                           count=200,\n",
        "                           include_rts = False,\n",
        "                           # Necessary to keep full_text \n",
        "                           # otherwise only the first 140 words are extracted\n",
        "                           tweet_mode = 'extended'\n",
        "                           )\n",
        "  all_tweets = []\n",
        "  oldest_id = tweets[-1].id\n",
        "  \n",
        "  while True:\n",
        "    tweets = api.user_timeline(screen_name=userID, \n",
        "                          # 200 is the maximum allowed count\n",
        "                          count=200,\n",
        "                          include_rts = False,\n",
        "                          max_id = oldest_id - 1,\n",
        "                          # Necessary to keep full_text \n",
        "                          # otherwise only the first 140 words are extracted\n",
        "                          tweet_mode = 'extended'\n",
        "                          )\n",
        "    if len(tweets) == 0:\n",
        "      break\n",
        "    oldest_id = tweets[-1].id\n",
        "    all_tweets.extend(tweets)\n",
        " \n",
        "  outtweets = [[tweet.id_str, \n",
        "              tweet.created_at, \n",
        "              tweet.favorite_count, \n",
        "              tweet.retweet_count, \n",
        "              tweet.full_text.encode(\"utf-8\").decode(\"utf-8\").strip()] \n",
        "             for idx,tweet in enumerate(all_tweets)]\n",
        "  df = DataFrame(outtweets,columns=[\"id\",\"created_at\",\"favorite_count\",\"retweet_count\", \"text\"])\n",
        "  df.loc[0:1000].to_csv('newstweets.csv', mode = 'a', header=False, index=False)\n",
        "  df.head(3)"
      ],
      "execution_count": 305,
      "outputs": []
    },
    {
      "cell_type": "code",
      "metadata": {
        "id": "kb_yHjfuPHKb"
      },
      "source": [
        "#get_data_from_username(\"cnnbrk\")"
      ],
      "execution_count": 306,
      "outputs": []
    },
    {
      "cell_type": "code",
      "metadata": {
        "id": "09r-ayJXahCt"
      },
      "source": [
        "# csv = pd.read_csv(\"videosgame.csv\", encoding='latin-1', usecols=[3], header=None) "
      ],
      "execution_count": 307,
      "outputs": []
    },
    {
      "cell_type": "code",
      "metadata": {
        "id": "04vrddZ8amJY"
      },
      "source": [
        "# import re\n",
        "\n",
        "# lines = []\n",
        "\n",
        "# # remove anything that we don't want from the tweets\n",
        "# file = open(\"videogames.txt\", \"w\")\n",
        "# for line in csv[3]:\n",
        "#   line = re.sub(r'(^|[^@\\w])@(\\w{1,15})\\b', '', line)# @ mentions\n",
        "#   line = re.sub(r'&lt;', '<', line)# fix html <\n",
        "#   line = re.sub(r'&gt;', '>', line)# fix html >\n",
        "#   line = re.sub(r'&amp;', '&', line)# fix html &\n",
        "#   line = re.sub(r'&quot;', '\"', line)# fix html \"\n",
        "#   line = re.sub(r'https?://[^ ]+', '', line)# remove urls\n",
        "#   line = re.sub(r'www\\.[^ ]{3,200}', '', line)# remove urls\n",
        "#   line = re.sub(r' #[^ ]{1,40} ', ' ', line)# remove # hashtags\n",
        "#   line = re.sub(r' {2,}', ' ', line)# remove extra spaces (created from hashtag removal etc)\n",
        "#   line = line.strip()# remove trailing / leading whitespace\n",
        "#   if len(line) > 0:\n",
        "#     lines.append(line)\n",
        "#     file.write(line + \"\\n\")\n",
        "\n",
        "# file.close()\n"
      ],
      "execution_count": 308,
      "outputs": []
    },
    {
      "cell_type": "code",
      "metadata": {
        "id": "5pJEZIEg7p1B"
      },
      "source": [
        "#get_data_from_username(\"nytimes\")"
      ],
      "execution_count": 309,
      "outputs": []
    },
    {
      "cell_type": "code",
      "metadata": {
        "id": "O1s4p9t5719l"
      },
      "source": [
        "#get_data_from_username(\"cnn\")"
      ],
      "execution_count": 310,
      "outputs": []
    },
    {
      "cell_type": "code",
      "metadata": {
        "id": "W4ah3P0o794T"
      },
      "source": [
        "#get_data_from_username(\"bbcbreaking\")"
      ],
      "execution_count": 311,
      "outputs": []
    },
    {
      "cell_type": "code",
      "metadata": {
        "id": "EWeJphvm8GUN"
      },
      "source": [
        "#get_data_from_username(\"bbcworld\")"
      ],
      "execution_count": 312,
      "outputs": []
    },
    {
      "cell_type": "code",
      "metadata": {
        "id": "HnJiB-Gf8PMw"
      },
      "source": [
        "#get_data_from_username(\"theeconomist\")"
      ],
      "execution_count": 313,
      "outputs": []
    },
    {
      "cell_type": "code",
      "metadata": {
        "id": "lvuP_VC98WXC"
      },
      "source": [
        "#get_data_from_username(\"reuters\")"
      ],
      "execution_count": 314,
      "outputs": []
    },
    {
      "cell_type": "code",
      "metadata": {
        "id": "vByRqjkJ8hAj"
      },
      "source": [
        "#get_data_from_username(\"wsj\")"
      ],
      "execution_count": 315,
      "outputs": []
    },
    {
      "cell_type": "code",
      "metadata": {
        "id": "5sCh2dJP8mni"
      },
      "source": [
        "#get_data_from_username(\"time\")"
      ],
      "execution_count": 316,
      "outputs": []
    },
    {
      "cell_type": "code",
      "metadata": {
        "id": "n5OiVEkI8uDy"
      },
      "source": [
        "#get_data_from_username(\"abc\")"
      ],
      "execution_count": 317,
      "outputs": []
    },
    {
      "cell_type": "code",
      "metadata": {
        "id": "Tu2xoU41-vJ8"
      },
      "source": [
        "# get_data_from_hashtag(\"#leagueoflegends\")\n",
        "# get_data_from_hashtag(\"#valorant\")\n",
        "# get_data_from_hashtag(\"#pokemon\")\n",
        "# get_data_from_hashtag(\"#genshinimpact\")\n",
        "# get_data_from_hashtag(\"#acnh\")\n",
        "# get_data_from_hashtag(\"#minecraft\")\n",
        "# get_data_from_hashtag(\"#roblox\")\n",
        "# get_data_from_hashtag(\"#botw\")\n",
        "# get_data_from_hashtag(\"#hadesgame\")\n",
        "# get_data_from_hashtag(\"#undertale\")"
      ],
      "execution_count": 318,
      "outputs": []
    },
    {
      "cell_type": "code",
      "metadata": {
        "id": "Gp8PnFkT9ciJ"
      },
      "source": [
        ""
      ],
      "execution_count": 318,
      "outputs": []
    }
  ]
}