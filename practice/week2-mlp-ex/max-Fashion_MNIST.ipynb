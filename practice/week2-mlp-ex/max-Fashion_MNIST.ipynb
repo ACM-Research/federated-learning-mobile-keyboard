{
  "nbformat": 4,
  "nbformat_minor": 0,
  "metadata": {
    "colab": {
      "name": "Fashion MNIST.ipynb",
      "provenance": [],
      "collapsed_sections": []
    },
    "kernelspec": {
      "name": "python3",
      "display_name": "Python 3"
    },
    "language_info": {
      "name": "python"
    },
    "accelerator": "GPU"
  },
  "cells": [
    {
      "cell_type": "markdown",
      "metadata": {
        "id": "SW02P1AzQ7q8"
      },
      "source": [
        "# Fashion MNIST classifier\n",
        "\n",
        "Note: GPU runtime is recommended for faster training time (should take ~90 seconds to train with colab GPU)"
      ]
    },
    {
      "cell_type": "code",
      "metadata": {
        "id": "liiOVrkPAy11"
      },
      "source": [
        "## imports\n",
        "import tensorflow as tf\n",
        "import numpy as np\n",
        "import matplotlib.pyplot as plt\n",
        "import tensorflow.keras as keras\n",
        "import tensorflow.keras.datasets.fashion_mnist as fashion_mnist\n",
        "from google.colab import files\n",
        "from keras.preprocessing import image\n",
        "\n",
        "from tensorflow.keras import layers\n",
        "from tensorflow.keras import losses\n",
        "from tensorflow.keras import preprocessing\n",
        "\n",
        "%tensorflow_version 2.x"
      ],
      "execution_count": null,
      "outputs": []
    },
    {
      "cell_type": "code",
      "metadata": {
        "colab": {
          "base_uri": "https://localhost:8080/"
        },
        "id": "Jib6bIcIA_9x",
        "outputId": "26372b67-62e0-4bcb-f2d4-be4a323eb92e"
      },
      "source": [
        "## load and process data\n",
        "\n",
        "# load the mnist data\n",
        "(train_x, train_y), (test_x, test_y) = fashion_mnist.load_data()\n",
        "\n",
        "# preprocess provided data\n",
        "def preprocess(img_set):\n",
        "  # mnist data needs to be reshaped to make the Conv2D layer happy\n",
        "  # (Conv2D expects that each pixel be an array, not a single value)\n",
        "  img_set = img_set.reshape(img_set.shape + (1,))\n",
        "\n",
        "  # also scale it to [0, 1] because neural nets like this better\n",
        "  img_set = img_set / 255.\n",
        "\n",
        "  return img_set\n",
        "\n",
        "# preprocess each set\n",
        "train_x = preprocess(train_x)\n",
        "test_x = preprocess(test_x)\n",
        "\n",
        "print(\"Train / test shapes: {} {}\".format(train_x.shape, test_x.shape))"
      ],
      "execution_count": null,
      "outputs": [
        {
          "output_type": "stream",
          "name": "stdout",
          "text": [
            "Train / test shapes: (60000, 28, 28, 1) (10000, 28, 28, 1)\n"
          ]
        }
      ]
    },
    {
      "cell_type": "code",
      "metadata": {
        "colab": {
          "base_uri": "https://localhost:8080/"
        },
        "id": "n7kp5ltLBoGx",
        "outputId": "7a5b3b36-dae3-40f4-b964-87da222e7b29"
      },
      "source": [
        "## set up and train the model\n",
        "\n",
        "model = keras.models.Sequential([\n",
        "  # use convolutions so the model can learn features better\n",
        "  layers.Conv2D(16, (3, 3), activation=\"relu\", input_shape=(28, 28, 1)),\n",
        "  # use pooling to reduce the amount of pixels that have to be processed\n",
        "  layers.MaxPooling2D((2, 2)),\n",
        "  # forces the model to be a bit more general & prevent overfitting\n",
        "  layers.Dropout(0.2),\n",
        "  # flatten the image grid into a vector for the neural layers\n",
        "  layers.Flatten(),\n",
        "  layers.Dense(128, activation=\"relu\"),\n",
        "  layers.Dense(10, activation=\"sigmoid\")\n",
        "])\n",
        "\n",
        "model.compile(\n",
        "    loss=\"sparse_categorical_crossentropy\",\n",
        "    optimizer=keras.optimizers.RMSprop(learning_rate=.001),# i tried other numbers, this was the best\n",
        "    metrics=[\"accuracy\"]\n",
        ")\n",
        "\n",
        "model.summary()\n",
        "\n",
        "# more than 10 epochs seems to not increase accuracy\n",
        "history = model.fit(train_x, train_y, epochs=10)"
      ],
      "execution_count": null,
      "outputs": [
        {
          "output_type": "stream",
          "name": "stdout",
          "text": [
            "Model: \"sequential\"\n",
            "_________________________________________________________________\n",
            "Layer (type)                 Output Shape              Param #   \n",
            "=================================================================\n",
            "conv2d (Conv2D)              (None, 26, 26, 16)        160       \n",
            "_________________________________________________________________\n",
            "max_pooling2d (MaxPooling2D) (None, 13, 13, 16)        0         \n",
            "_________________________________________________________________\n",
            "dropout (Dropout)            (None, 13, 13, 16)        0         \n",
            "_________________________________________________________________\n",
            "flatten (Flatten)            (None, 2704)              0         \n",
            "_________________________________________________________________\n",
            "dense (Dense)                (None, 128)               346240    \n",
            "_________________________________________________________________\n",
            "dense_1 (Dense)              (None, 10)                1290      \n",
            "=================================================================\n",
            "Total params: 347,690\n",
            "Trainable params: 347,690\n",
            "Non-trainable params: 0\n",
            "_________________________________________________________________\n",
            "Epoch 1/10\n",
            "1875/1875 [==============================] - 11s 5ms/step - loss: 0.4054 - accuracy: 0.8555\n",
            "Epoch 2/10\n",
            "1875/1875 [==============================] - 9s 5ms/step - loss: 0.2918 - accuracy: 0.8946\n",
            "Epoch 3/10\n",
            "1875/1875 [==============================] - 9s 5ms/step - loss: 0.2590 - accuracy: 0.9063\n",
            "Epoch 4/10\n",
            "1875/1875 [==============================] - 9s 5ms/step - loss: 0.2442 - accuracy: 0.9116\n",
            "Epoch 5/10\n",
            "1875/1875 [==============================] - 9s 5ms/step - loss: 0.2323 - accuracy: 0.9166\n",
            "Epoch 6/10\n",
            "1875/1875 [==============================] - 9s 5ms/step - loss: 0.2240 - accuracy: 0.9203\n",
            "Epoch 7/10\n",
            "1875/1875 [==============================] - 9s 5ms/step - loss: 0.2191 - accuracy: 0.9225\n",
            "Epoch 8/10\n",
            "1875/1875 [==============================] - 9s 5ms/step - loss: 0.2112 - accuracy: 0.9251\n",
            "Epoch 9/10\n",
            "1875/1875 [==============================] - 9s 5ms/step - loss: 0.2082 - accuracy: 0.9268\n",
            "Epoch 10/10\n",
            "1875/1875 [==============================] - 9s 5ms/step - loss: 0.2013 - accuracy: 0.9293\n"
          ]
        }
      ]
    },
    {
      "cell_type": "code",
      "metadata": {
        "colab": {
          "base_uri": "https://localhost:8080/"
        },
        "id": "R4f_IbudCS4F",
        "outputId": "81516370-515a-49f6-f850-73ae020bf151"
      },
      "source": [
        "## evaluate the model\n",
        "\n",
        "model.evaluate(test_x, test_y, verbose=2)"
      ],
      "execution_count": null,
      "outputs": [
        {
          "output_type": "stream",
          "name": "stdout",
          "text": [
            "313/313 - 1s - loss: 0.2654 - accuracy: 0.9102\n"
          ]
        },
        {
          "output_type": "execute_result",
          "data": {
            "text/plain": [
              "[0.26543128490448, 0.9101999998092651]"
            ]
          },
          "metadata": {},
          "execution_count": 4
        }
      ]
    },
    {
      "cell_type": "code",
      "metadata": {
        "colab": {
          "base_uri": "https://localhost:8080/",
          "height": 298
        },
        "id": "j1L2kfrIG5Mi",
        "outputId": "9605ae21-1376-487b-8fbe-661dca737789"
      },
      "source": [
        "## plot graph of training accuracy and loss over time\n",
        "\n",
        "# extract stats\n",
        "acc = history.history[\"accuracy\"]\n",
        "loss = history.history[\"loss\"]\n",
        "\n",
        "num_epochs=range(len(acc))\n",
        "\n",
        "# graph them\n",
        "plt.plot(num_epochs, acc)\n",
        "plt.plot(num_epochs, loss)\n",
        "plt.title(\"Training loss and accuracy\")\n",
        "plt.legend([\"Accuracy\", \"Loss\"])\n",
        "plt.figure()\n",
        "\n",
        "plt.show()"
      ],
      "execution_count": null,
      "outputs": [
        {
          "output_type": "display_data",
          "data": {
            "image/png": "[encoded data removed]",
            "text/plain": [
              "<Figure size 432x288 with 1 Axes>"
            ]
          },
          "metadata": {
            "needs_background": "light"
          }
        },
        {
          "output_type": "display_data",
          "data": {
            "text/plain": [
              "<Figure size 432x288 with 0 Axes>"
            ]
          },
          "metadata": {}
        }
      ]
    }
  ]
}