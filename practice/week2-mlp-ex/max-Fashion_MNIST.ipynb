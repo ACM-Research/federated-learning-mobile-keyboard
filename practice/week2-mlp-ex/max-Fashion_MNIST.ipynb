{
  "nbformat": 4,
  "nbformat_minor": 0,
  "metadata": {
    "colab": {
      "name": "Fashion MNIST.ipynb",
      "provenance": [],
      "collapsed_sections": []
    },
    "kernelspec": {
      "name": "python3",
      "display_name": "Python 3"
    },
    "language_info": {
      "name": "python"
    },
    "accelerator": "GPU"
  },
  "cells": [
    {
      "cell_type": "markdown",
      "metadata": {
        "id": "SW02P1AzQ7q8"
      },
      "source": [
        "# Max's Fashion MNIST classifier\n",
        "\n",
        "Note: GPU runtime is recommended for faster training time (should take ~90 seconds to train with colab GPU)"
      ]
    },
    {
      "cell_type": "code",
      "metadata": {
        "id": "liiOVrkPAy11"
      },
      "source": [
        "## imports\n",
        "import tensorflow as tf\n",
        "import numpy as np\n",
        "import matplotlib.pyplot as plt\n",
        "import tensorflow.keras as keras\n",
        "import tensorflow.keras.datasets.fashion_mnist as fashion_mnist\n",
        "from google.colab import files\n",
        "from keras.preprocessing import image\n",
        "\n",
        "from tensorflow.keras import layers\n",
        "from tensorflow.keras import losses\n",
        "from tensorflow.keras import preprocessing\n",
        "\n",
        "%tensorflow_version 2.x"
      ],
      "execution_count": 4,
      "outputs": []
    },
    {
      "cell_type": "code",
      "metadata": {
        "colab": {
          "base_uri": "https://localhost:8080/"
        },
        "id": "Jib6bIcIA_9x",
        "outputId": "67b75120-3dad-4c5d-8535-6155d5f1291e"
      },
      "source": [
        "## load and process data\n",
        "\n",
        "# load the mnist data\n",
        "(train_x, train_y), (test_x, test_y) = fashion_mnist.load_data()\n",
        "\n",
        "# preprocess provided data\n",
        "def preprocess(img_set):\n",
        "  # mnist data needs to be reshaped to make the Conv2D layer happy\n",
        "  # (Conv2D expects that each pixel be an array, not a single value)\n",
        "  img_set = img_set.reshape(img_set.shape + (1,))\n",
        "\n",
        "  # also scale it to [0, 1] because neural nets like this better\n",
        "  img_set = img_set / 255.\n",
        "\n",
        "  return img_set\n",
        "\n",
        "# preprocess each set\n",
        "train_x = preprocess(train_x)\n",
        "test_x = preprocess(test_x)\n",
        "\n",
        "print(\"Train / test shapes: {} {}\".format(train_x.shape, test_x.shape))"
      ],
      "execution_count": 5,
      "outputs": [
        {
          "output_type": "stream",
          "name": "stdout",
          "text": [
            "Train / test shapes: (60000, 28, 28, 1) (10000, 28, 28, 1)\n"
          ]
        }
      ]
    },
    {
      "cell_type": "code",
      "metadata": {
        "colab": {
          "base_uri": "https://localhost:8080/"
        },
        "id": "n7kp5ltLBoGx",
        "outputId": "b88aa1cd-6c52-4f16-8727-726e9f19f5b6"
      },
      "source": [
        "## set up and train the model\n",
        "\n",
        "model = keras.models.Sequential([\n",
        "  # # flatten the image grid into a vector for the neural layers\n",
        "  layers.Flatten(input_shape=(28, 28, 1)),\n",
        "  layers.Dense(128, activation=\"relu\"),\n",
        "  layers.Dense(10, activation=\"softmax\")\n",
        "])\n",
        "\n",
        "model.compile(\n",
        "    loss=\"sparse_categorical_crossentropy\",\n",
        "    optimizer=keras.optimizers.RMSprop(learning_rate=.001),# i tried other numbers, this was the best\n",
        "    metrics=[\"accuracy\"]\n",
        ")\n",
        "\n",
        "model.summary()\n",
        "\n",
        "# more than 10 epochs seems to not increase accuracy\n",
        "history = model.fit(train_x, train_y, epochs=10)"
      ],
      "execution_count": 9,
      "outputs": [
        {
          "output_type": "stream",
          "name": "stdout",
          "text": [
            "Model: \"sequential_2\"\n",
            "_________________________________________________________________\n",
            "Layer (type)                 Output Shape              Param #   \n",
            "=================================================================\n",
            "flatten_2 (Flatten)          (None, 784)               0         \n",
            "_________________________________________________________________\n",
            "dense_4 (Dense)              (None, 128)               100480    \n",
            "_________________________________________________________________\n",
            "dense_5 (Dense)              (None, 10)                1290      \n",
            "=================================================================\n",
            "Total params: 101,770\n",
            "Trainable params: 101,770\n",
            "Non-trainable params: 0\n",
            "_________________________________________________________________\n",
            "Epoch 1/10\n",
            "1875/1875 [==============================] - 5s 3ms/step - loss: 0.5079 - accuracy: 0.8207\n",
            "Epoch 2/10\n",
            "1875/1875 [==============================] - 5s 2ms/step - loss: 0.3793 - accuracy: 0.8638\n",
            "Epoch 3/10\n",
            "1875/1875 [==============================] - 5s 2ms/step - loss: 0.3473 - accuracy: 0.8762\n",
            "Epoch 4/10\n",
            "1875/1875 [==============================] - 5s 3ms/step - loss: 0.3326 - accuracy: 0.8829\n",
            "Epoch 5/10\n",
            "1875/1875 [==============================] - 5s 3ms/step - loss: 0.3189 - accuracy: 0.8883\n",
            "Epoch 6/10\n",
            "1875/1875 [==============================] - 5s 3ms/step - loss: 0.3086 - accuracy: 0.8929\n",
            "Epoch 7/10\n",
            "1875/1875 [==============================] - 5s 3ms/step - loss: 0.3015 - accuracy: 0.8945\n",
            "Epoch 8/10\n",
            "1875/1875 [==============================] - 5s 3ms/step - loss: 0.2941 - accuracy: 0.8989\n",
            "Epoch 9/10\n",
            "1875/1875 [==============================] - 5s 3ms/step - loss: 0.2894 - accuracy: 0.9011\n",
            "Epoch 10/10\n",
            "1875/1875 [==============================] - 5s 2ms/step - loss: 0.2859 - accuracy: 0.9025\n"
          ]
        }
      ]
    },
    {
      "cell_type": "code",
      "metadata": {
        "colab": {
          "base_uri": "https://localhost:8080/"
        },
        "id": "R4f_IbudCS4F",
        "outputId": "f0aab37d-5713-406f-8051-475e002f2200"
      },
      "source": [
        "## evaluate the model\n",
        "\n",
        "model.evaluate(test_x, test_y, verbose=2)"
      ],
      "execution_count": 10,
      "outputs": [
        {
          "output_type": "stream",
          "name": "stdout",
          "text": [
            "313/313 - 1s - loss: 0.3948 - accuracy: 0.8801\n"
          ]
        },
        {
          "output_type": "execute_result",
          "data": {
            "text/plain": [
              "[0.3948246240615845, 0.8801000118255615]"
            ]
          },
          "metadata": {},
          "execution_count": 10
        }
      ]
    },
    {
      "cell_type": "code",
      "metadata": {
        "colab": {
          "base_uri": "https://localhost:8080/",
          "height": 298
        },
        "id": "j1L2kfrIG5Mi",
        "outputId": "6b99366b-9f75-480b-9c35-a42ce0d02e7f"
      },
      "source": [
        "## plot graph of training accuracy and loss over time\n",
        "\n",
        "# extract stats\n",
        "acc = history.history[\"accuracy\"]\n",
        "loss = history.history[\"loss\"]\n",
        "\n",
        "num_epochs=range(len(acc))\n",
        "\n",
        "# graph them\n",
        "plt.plot(num_epochs, acc)\n",
        "plt.plot(num_epochs, loss)\n",
        "plt.title(\"Training loss and accuracy\")\n",
        "plt.legend([\"Accuracy\", \"Loss\"])\n",
        "plt.figure()\n",
        "\n",
        "plt.show()"
      ],
      "execution_count": 8,
      "outputs": [
        {
          "output_type": "display_data",
          "data": {
            "image/png": "[encoded data removed]",
            "text/plain": [
              "<Figure size 432x288 with 1 Axes>"
            ]
          },
          "metadata": {
            "needs_background": "light"
          }
        },
        {
          "output_type": "display_data",
          "data": {
            "text/plain": [
              "<Figure size 432x288 with 0 Axes>"
            ]
          },
          "metadata": {}
        }
      ]
    }
  ]
}