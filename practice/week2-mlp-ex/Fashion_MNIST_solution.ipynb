{
  "nbformat": 4,
  "nbformat_minor": 0,
  "metadata": {
    "colab": {
      "name": "Fashion MNIST solution",
      "provenance": [],
      "collapsed_sections": []
    },
    "kernelspec": {
      "name": "python3",
      "display_name": "Python 3"
    },
    "language_info": {
      "name": "python"
    }
  },
  "cells": [
    {
      "cell_type": "code",
      "metadata": {
        "id": "m6RbG8LrRVnH"
      },
      "source": [
        "import tensorflow as tf\n",
        "import tensorflow.keras as keras\n",
        "import matplotlib.pyplot as plt\n",
        "from tensorflow.keras import layers\n",
        "import numpy as np"
      ],
      "execution_count": 111,
      "outputs": []
    },
    {
      "cell_type": "code",
      "metadata": {
        "id": "LhTsLp7BtkE_"
      },
      "source": [
        "fashion = tf.keras.datasets.fashion_mnist\n",
        "(x_train, y_train), (x_test, y_test) = fashion.load_data()\n",
        "input_shape = (28, 28, 1)"
      ],
      "execution_count": 112,
      "outputs": []
    },
    {
      "cell_type": "code",
      "metadata": {
        "id": "ccL6AsoIxcQu"
      },
      "source": [
        "x_train = x_train.astype(\"float32\") / 255\n",
        "x_test = x_test.astype(\"float32\") / 255"
      ],
      "execution_count": 113,
      "outputs": []
    },
    {
      "cell_type": "code",
      "metadata": {
        "colab": {
          "base_uri": "https://localhost:8080/"
        },
        "id": "JAbGWPNjB8OP",
        "outputId": "89d293e4-a4f3-4658-c61e-455402b9a7c6"
      },
      "source": [
        "x_train = np.expand_dims(x_train, -1)\n",
        "x_test = np.expand_dims(x_test, -1)\n",
        "\n",
        "print(\"x_train shape:\", x_train.shape)\n",
        "print(\"x_test shape:\", x_test.shape)"
      ],
      "execution_count": 114,
      "outputs": [
        {
          "output_type": "stream",
          "name": "stdout",
          "text": [
            "x_train shape: (60000, 28, 28, 1)\n",
            "x_test shape: (10000, 28, 28, 1)\n"
          ]
        }
      ]
    },
    {
      "cell_type": "code",
      "metadata": {
        "colab": {
          "base_uri": "https://localhost:8080/"
        },
        "id": "NuZoX5EQ0mOc",
        "outputId": "efa42ae4-fe84-4f53-fe02-8ff49703fdbb"
      },
      "source": [
        "model = keras.Sequential(\n",
        "    [\n",
        "     keras.Input(shape=input_shape),\n",
        "     layers.Flatten(),\n",
        "     layers.Dense(128, activation=tf.nn.relu),\n",
        "     layers.Dense(128, activation=tf.nn.relu),\n",
        "     layers.Dense(10, activation=tf.nn.softmax),\n",
        "    ]\n",
        ")\n",
        "model.compile(loss=\"sparse_categorical_crossentropy\", optimizer=\"RMSprop\", metrics=[\"accuracy\"])\n",
        "model.fit(x_train, y_train, epochs=6)"
      ],
      "execution_count": 115,
      "outputs": [
        {
          "output_type": "stream",
          "name": "stdout",
          "text": [
            "Epoch 1/6\n",
            "1875/1875 [==============================] - 5s 2ms/step - loss: 0.4915 - accuracy: 0.8232\n",
            "Epoch 2/6\n",
            "1875/1875 [==============================] - 4s 2ms/step - loss: 0.3795 - accuracy: 0.8644\n",
            "Epoch 3/6\n",
            "1875/1875 [==============================] - 4s 2ms/step - loss: 0.3563 - accuracy: 0.8731\n",
            "Epoch 4/6\n",
            "1875/1875 [==============================] - 4s 2ms/step - loss: 0.3452 - accuracy: 0.8811\n",
            "Epoch 5/6\n",
            "1875/1875 [==============================] - 4s 2ms/step - loss: 0.3389 - accuracy: 0.8836\n",
            "Epoch 6/6\n",
            "1875/1875 [==============================] - 5s 2ms/step - loss: 0.3319 - accuracy: 0.8871\n"
          ]
        },
        {
          "output_type": "execute_result",
          "data": {
            "text/plain": [
              "<keras.callbacks.History at 0x7fb61b08a510>"
            ]
          },
          "metadata": {},
          "execution_count": 115
        }
      ]
    },
    {
      "cell_type": "code",
      "metadata": {
        "colab": {
          "base_uri": "https://localhost:8080/"
        },
        "id": "yd8ez1MgKRZD",
        "outputId": "a115cb65-3e14-451d-8792-85b49c7398bf"
      },
      "source": [
        "score = model.evaluate(x_test, y_test, verbose=0)\n",
        "print(\"Test loss:\", score[0])\n",
        "print(\"Test accuracy:\", score[1])"
      ],
      "execution_count": 116,
      "outputs": [
        {
          "output_type": "stream",
          "name": "stdout",
          "text": [
            "Test loss: 0.45526671409606934\n",
            "Test accuracy: 0.8610000014305115\n"
          ]
        }
      ]
    }
  ]
}